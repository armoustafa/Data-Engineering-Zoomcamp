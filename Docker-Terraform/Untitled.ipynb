{
 "cells": [
  {
   "cell_type": "code",
   "execution_count": 1,
   "id": "5a244cf2-9399-4a44-bba1-a561b97cf7ff",
   "metadata": {},
   "outputs": [],
   "source": [
    "from sqlalchemy import Column, create_engine, ForeignKey, String, Integer, CHAR"
   ]
  },
  {
   "cell_type": "code",
   "execution_count": 3,
   "id": "8023a21c-3bcc-4899-bca1-d4cfec970a99",
   "metadata": {},
   "outputs": [],
   "source": [
    "from sqlalchemy.ext.declarative import declarative_base\n",
    "from sqlalchemy.orm import sessionmaker "
   ]
  },
  {
   "cell_type": "code",
   "execution_count": 5,
   "id": "b3d2d647-47b7-4db9-a1be-fd7db69656ad",
   "metadata": {},
   "outputs": [
    {
     "name": "stderr",
     "output_type": "stream",
     "text": [
      "/var/folders/l2/9zzfckdd0j1b0n8sv57nrv7c0000gn/T/ipykernel_78688/4196137762.py:1: MovedIn20Warning: The ``declarative_base()`` function is now available as sqlalchemy.orm.declarative_base(). (deprecated since: 2.0) (Background on SQLAlchemy 2.0 at: https://sqlalche.me/e/b8d9)\n",
      "  Base = declarative_base()\n"
     ]
    }
   ],
   "source": [
    "Base = declarative_base()"
   ]
  },
  {
   "cell_type": "code",
   "execution_count": 7,
   "id": "bf894a2f-001e-45c0-a3fa-aad16e15e0a1",
   "metadata": {},
   "outputs": [
    {
     "name": "stdout",
     "output_type": "stream",
     "text": [
      "2024-12-17 04:36:32,794 INFO sqlalchemy.engine.Engine BEGIN (implicit)\n",
      "2024-12-17 04:36:32,795 INFO sqlalchemy.engine.Engine PRAGMA main.table_info(\"people\")\n",
      "2024-12-17 04:36:32,795 INFO sqlalchemy.engine.Engine [raw sql] ()\n",
      "2024-12-17 04:36:32,796 INFO sqlalchemy.engine.Engine PRAGMA temp.table_info(\"people\")\n",
      "2024-12-17 04:36:32,796 INFO sqlalchemy.engine.Engine [raw sql] ()\n",
      "2024-12-17 04:36:32,797 INFO sqlalchemy.engine.Engine \n",
      "CREATE TABLE people (\n",
      "\tssn INTEGER NOT NULL, \n",
      "\tfirstname VARCHAR, \n",
      "\tlastname VARCHAR, \n",
      "\tgender CHAR, \n",
      "\tage INTEGER, \n",
      "\tPRIMARY KEY (ssn)\n",
      ")\n",
      "\n",
      "\n",
      "2024-12-17 04:36:32,797 INFO sqlalchemy.engine.Engine [no key 0.00038s] ()\n",
      "2024-12-17 04:36:32,799 INFO sqlalchemy.engine.Engine COMMIT\n",
      "2024-12-17 04:36:32,800 INFO sqlalchemy.engine.Engine BEGIN (implicit)\n",
      "2024-12-17 04:36:32,802 INFO sqlalchemy.engine.Engine INSERT INTO people (ssn, firstname, lastname, gender, age) VALUES (?, ?, ?, ?, ?)\n",
      "2024-12-17 04:36:32,802 INFO sqlalchemy.engine.Engine [generated in 0.00045s] (12312, 'Mike', 'Smith', 'm', 35)\n",
      "2024-12-17 04:36:32,809 INFO sqlalchemy.engine.Engine COMMIT\n",
      "2024-12-17 04:36:32,826 INFO sqlalchemy.engine.Engine BEGIN (implicit)\n",
      "2024-12-17 04:36:32,828 INFO sqlalchemy.engine.Engine INSERT INTO people (ssn, firstname, lastname, gender, age) VALUES (?, ?, ?, ?, ?)\n",
      "2024-12-17 04:36:32,829 INFO sqlalchemy.engine.Engine [generated in 0.00097s] [(31234, 'Anna', 'Blue', 'f', 40), (32423, 'Bob', 'Blue', 'm', 35), (45654, 'Angela', 'Cold', 'f', 22)]\n",
      "2024-12-17 04:36:32,830 INFO sqlalchemy.engine.Engine COMMIT\n"
     ]
    }
   ],
   "source": [
    "class Person(Base):\n",
    "    __tablename__ = \"people\"\n",
    "    ssn = Column(\"ssn\", Integer, primary_key=True)\n",
    "    firstname = Column(\"firstname\", String)\n",
    "    lastname = Column(\"lastname\", String)\n",
    "    gender = Column(\"gender\", CHAR)\n",
    "    age = Column(\"age\", Integer)\n",
    "    \n",
    "    def __init__(self, ssn, first, last, gender, age):\n",
    "        self.ssn = ssn\n",
    "        self.firstname = first\n",
    "        self. lastname = last\n",
    "        self.gender = gender\n",
    "        self.age = age\n",
    "        \n",
    "    def __repr__(self) :\n",
    "        return f\"({self.ssn}) {self.firstname} {self.lastname} ({self.gender},{self.age})\"\n",
    "\n",
    "engine = create_engine(\"sqlite:///mydb.db\", echo = True)\n",
    "Base.metadata.create_all(bind=engine)\n",
    "\n",
    "\n",
    "\n",
    "Session = sessionmaker(bind=engine)\n",
    "session = Session()\n",
    "person = Person(12312, \"Mike\", \"Smith\", \"m\", 35)\n",
    "session.add(person)\n",
    "session.commit()\n",
    "p1 = Person(31234, \"Anna\", \"Blue\", \"f\", 40)\n",
    "p2 = Person(32423, \"Bob\", \"Blue\", \"m\", 35)\n",
    "p3 = Person(45654, \"Angela\", \"Cold\",\"f\", 22)\n",
    "session.add (p1)\n",
    "session.add(p2)\n",
    "session.add(p3)\n",
    "session.commit()"
   ]
  },
  {
   "cell_type": "code",
   "execution_count": null,
   "id": "8000e166-1b89-4b10-af64-6148af5a3960",
   "metadata": {},
   "outputs": [],
   "source": []
  },
  {
   "cell_type": "code",
   "execution_count": null,
   "id": "a04d0210-1bee-4d0b-ad9f-55c241fa9184",
   "metadata": {},
   "outputs": [],
   "source": []
  },
  {
   "cell_type": "code",
   "execution_count": null,
   "id": "ed54318d-a2c1-4d8e-b7b6-10cb304a3587",
   "metadata": {},
   "outputs": [],
   "source": []
  }
 ],
 "metadata": {
  "kernelspec": {
   "display_name": "Python [conda env:base] *",
   "language": "python",
   "name": "conda-base-py"
  },
  "language_info": {
   "codemirror_mode": {
    "name": "ipython",
    "version": 3
   },
   "file_extension": ".py",
   "mimetype": "text/x-python",
   "name": "python",
   "nbconvert_exporter": "python",
   "pygments_lexer": "ipython3",
   "version": "3.12.7"
  }
 },
 "nbformat": 4,
 "nbformat_minor": 5
}
